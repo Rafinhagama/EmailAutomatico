{
 "cells": [
  {
   "cell_type": "code",
   "execution_count": 1,
   "id": "88ef387c",
   "metadata": {},
   "outputs": [
    {
     "name": "stdout",
     "output_type": "stream",
     "text": [
      "Requirement already satisfied: pywin32 in e:\\anaconda\\lib\\site-packages (302)\n"
     ]
    }
   ],
   "source": [
    "!pip install pywin32"
   ]
  },
  {
   "cell_type": "code",
   "execution_count": 9,
   "id": "1f9bfeff",
   "metadata": {},
   "outputs": [],
   "source": [
    "import win32com.client as client\n",
    "import pandas as pd \n",
    "import datetime as dt"
   ]
  },
  {
   "cell_type": "code",
   "execution_count": 10,
   "id": "d015f216",
   "metadata": {},
   "outputs": [
    {
     "data": {
      "text/html": [
       "<div>\n",
       "<style scoped>\n",
       "    .dataframe tbody tr th:only-of-type {\n",
       "        vertical-align: middle;\n",
       "    }\n",
       "\n",
       "    .dataframe tbody tr th {\n",
       "        vertical-align: top;\n",
       "    }\n",
       "\n",
       "    .dataframe thead th {\n",
       "        text-align: right;\n",
       "    }\n",
       "</style>\n",
       "<table border=\"1\" class=\"dataframe\">\n",
       "  <thead>\n",
       "    <tr style=\"text-align: right;\">\n",
       "      <th></th>\n",
       "      <th>clientes</th>\n",
       "      <th>telefone</th>\n",
       "      <th>cnpj</th>\n",
       "      <th>email</th>\n",
       "      <th>Unnamed: 4</th>\n",
       "      <th>situacao</th>\n",
       "    </tr>\n",
       "  </thead>\n",
       "  <tbody>\n",
       "    <tr>\n",
       "      <th>0</th>\n",
       "      <td>a</td>\n",
       "      <td>1</td>\n",
       "      <td>iwjewej</td>\n",
       "      <td>jarbas.gama@yahoo.com.br</td>\n",
       "      <td>NaN</td>\n",
       "      <td>ativa</td>\n",
       "    </tr>\n",
       "    <tr>\n",
       "      <th>1</th>\n",
       "      <td>a</td>\n",
       "      <td>1</td>\n",
       "      <td>iwjewej</td>\n",
       "      <td>rafinhadias_gama@hotmail.com</td>\n",
       "      <td>NaN</td>\n",
       "      <td>ativa</td>\n",
       "    </tr>\n",
       "    <tr>\n",
       "      <th>2</th>\n",
       "      <td>a</td>\n",
       "      <td>1</td>\n",
       "      <td>iwjewej</td>\n",
       "      <td>jarbas.gama@yahoo.com.br</td>\n",
       "      <td>NaN</td>\n",
       "      <td>ativa</td>\n",
       "    </tr>\n",
       "    <tr>\n",
       "      <th>3</th>\n",
       "      <td>a</td>\n",
       "      <td>1</td>\n",
       "      <td>iwjewej</td>\n",
       "      <td>jarbas.gama@yahoo.com.br</td>\n",
       "      <td>NaN</td>\n",
       "      <td>baixada</td>\n",
       "    </tr>\n",
       "    <tr>\n",
       "      <th>4</th>\n",
       "      <td>a</td>\n",
       "      <td>1</td>\n",
       "      <td>iwjewej</td>\n",
       "      <td>jarbas.gama@yahoo.com.br</td>\n",
       "      <td>NaN</td>\n",
       "      <td>baixada</td>\n",
       "    </tr>\n",
       "    <tr>\n",
       "      <th>5</th>\n",
       "      <td>a</td>\n",
       "      <td>1</td>\n",
       "      <td>iwjewej</td>\n",
       "      <td>jarbas.gama@yahoo.com.br</td>\n",
       "      <td>NaN</td>\n",
       "      <td>baixada</td>\n",
       "    </tr>\n",
       "    <tr>\n",
       "      <th>6</th>\n",
       "      <td>a</td>\n",
       "      <td>1</td>\n",
       "      <td>iwjewej</td>\n",
       "      <td>jarbas.gama@yahoo.com.br</td>\n",
       "      <td>NaN</td>\n",
       "      <td>baixada</td>\n",
       "    </tr>\n",
       "    <tr>\n",
       "      <th>7</th>\n",
       "      <td>a</td>\n",
       "      <td>1</td>\n",
       "      <td>iwjewej</td>\n",
       "      <td>jarbas.gama@yahoo.com.br</td>\n",
       "      <td>NaN</td>\n",
       "      <td>baixada</td>\n",
       "    </tr>\n",
       "    <tr>\n",
       "      <th>8</th>\n",
       "      <td>a</td>\n",
       "      <td>1</td>\n",
       "      <td>iwjewej</td>\n",
       "      <td>jarbas.gama@yahoo.com.br</td>\n",
       "      <td>NaN</td>\n",
       "      <td>baixada</td>\n",
       "    </tr>\n",
       "  </tbody>\n",
       "</table>\n",
       "</div>"
      ],
      "text/plain": [
       "  clientes  telefone     cnpj                        email   Unnamed: 4  \\\n",
       "0        a         1  iwjewej      jarbas.gama@yahoo.com.br         NaN   \n",
       "1        a         1  iwjewej  rafinhadias_gama@hotmail.com         NaN   \n",
       "2        a         1  iwjewej      jarbas.gama@yahoo.com.br         NaN   \n",
       "3        a         1  iwjewej      jarbas.gama@yahoo.com.br         NaN   \n",
       "4        a         1  iwjewej      jarbas.gama@yahoo.com.br         NaN   \n",
       "5        a         1  iwjewej      jarbas.gama@yahoo.com.br         NaN   \n",
       "6        a         1  iwjewej      jarbas.gama@yahoo.com.br         NaN   \n",
       "7        a         1  iwjewej      jarbas.gama@yahoo.com.br         NaN   \n",
       "8        a         1  iwjewej      jarbas.gama@yahoo.com.br         NaN   \n",
       "\n",
       "  situacao  \n",
       "0    ativa  \n",
       "1    ativa  \n",
       "2    ativa  \n",
       "3  baixada  \n",
       "4  baixada  \n",
       "5  baixada  \n",
       "6  baixada  \n",
       "7  baixada  \n",
       "8  baixada  "
      ]
     },
     "metadata": {},
     "output_type": "display_data"
    }
   ],
   "source": [
    "tabela = pd.read_excel('clientes.xlsx')\n",
    "display(tabela)"
   ]
  },
  {
   "cell_type": "code",
   "execution_count": 11,
   "id": "93111eb0",
   "metadata": {},
   "outputs": [
    {
     "data": {
      "text/html": [
       "<div>\n",
       "<style scoped>\n",
       "    .dataframe tbody tr th:only-of-type {\n",
       "        vertical-align: middle;\n",
       "    }\n",
       "\n",
       "    .dataframe tbody tr th {\n",
       "        vertical-align: top;\n",
       "    }\n",
       "\n",
       "    .dataframe thead th {\n",
       "        text-align: right;\n",
       "    }\n",
       "</style>\n",
       "<table border=\"1\" class=\"dataframe\">\n",
       "  <thead>\n",
       "    <tr style=\"text-align: right;\">\n",
       "      <th></th>\n",
       "      <th>clientes</th>\n",
       "      <th>telefone</th>\n",
       "      <th>cnpj</th>\n",
       "      <th>email</th>\n",
       "      <th>Unnamed: 4</th>\n",
       "      <th>situacao</th>\n",
       "    </tr>\n",
       "  </thead>\n",
       "  <tbody>\n",
       "    <tr>\n",
       "      <th>0</th>\n",
       "      <td>a</td>\n",
       "      <td>1</td>\n",
       "      <td>iwjewej</td>\n",
       "      <td>jarbas.gama@yahoo.com.br</td>\n",
       "      <td>NaN</td>\n",
       "      <td>ativa</td>\n",
       "    </tr>\n",
       "    <tr>\n",
       "      <th>1</th>\n",
       "      <td>a</td>\n",
       "      <td>1</td>\n",
       "      <td>iwjewej</td>\n",
       "      <td>rafinhadias_gama@hotmail.com</td>\n",
       "      <td>NaN</td>\n",
       "      <td>ativa</td>\n",
       "    </tr>\n",
       "    <tr>\n",
       "      <th>2</th>\n",
       "      <td>a</td>\n",
       "      <td>1</td>\n",
       "      <td>iwjewej</td>\n",
       "      <td>jarbas.gama@yahoo.com.br</td>\n",
       "      <td>NaN</td>\n",
       "      <td>ativa</td>\n",
       "    </tr>\n",
       "  </tbody>\n",
       "</table>\n",
       "</div>"
      ],
      "text/plain": [
       "  clientes  telefone     cnpj                        email   Unnamed: 4  \\\n",
       "0        a         1  iwjewej      jarbas.gama@yahoo.com.br         NaN   \n",
       "1        a         1  iwjewej  rafinhadias_gama@hotmail.com         NaN   \n",
       "2        a         1  iwjewej      jarbas.gama@yahoo.com.br         NaN   \n",
       "\n",
       "  situacao  \n",
       "0    ativa  \n",
       "1    ativa  \n",
       "2    ativa  "
      ]
     },
     "metadata": {},
     "output_type": "display_data"
    }
   ],
   "source": [
    "situacao = tabela.loc[tabela['situacao']=='ativa']\n",
    "display(situacao)"
   ]
  },
  {
   "cell_type": "code",
   "execution_count": 12,
   "id": "cc0bd232",
   "metadata": {},
   "outputs": [],
   "source": [
    "outlook= client.Dispatch('Outlook.Application')"
   ]
  },
  {
   "cell_type": "code",
   "execution_count": 13,
   "id": "eeb1071e",
   "metadata": {},
   "outputs": [],
   "source": [
    "emissor = outlook.session.Accounts['jarbas.gama35@gmail.com']"
   ]
  },
  {
   "cell_type": "code",
   "execution_count": 14,
   "id": "f162e644",
   "metadata": {},
   "outputs": [
    {
     "name": "stdout",
     "output_type": "stream",
     "text": [
      "[['a', 1, 'jarbas.gama@yahoo.com.br'], ['a', 1, 'rafinhadias_gama@hotmail.com'], ['a', 1, 'jarbas.gama@yahoo.com.br']]\n"
     ]
    }
   ],
   "source": [
    "dados = situacao[['clientes' ,'telefone','email ']].values.tolist()\n",
    "print(dados)"
   ]
  },
  {
   "cell_type": "code",
   "execution_count": 15,
   "id": "598289a2",
   "metadata": {},
   "outputs": [],
   "source": [
    "for dado in dados:\n",
    "    destinatario = dado[2]\n",
    "    resp = dado[0]\n",
    "    tel = dado[1]\n",
    "    \n",
    "    mensagem = outlook.CreateItem(0)\n",
    "    mensagem.Display()\n",
    "    mensagem.To = destinatario\n",
    "    mensagem.Subject = 'Consultoria Contabil'\n",
    "    mensagem.Body =f'''\n",
    "    Teste\n",
    "    ola {resp} com o telefone {tel} vamos ter uma parceria?! \n",
    "    '''\n",
    "    \n",
    "    mensagem._oleobj_.Invoke(*(64209 , 0,8,0,emissor))\n",
    "    mensagem.Save()\n",
    "    mensagem.Send()"
   ]
  },
  {
   "cell_type": "code",
   "execution_count": null,
   "id": "ad25c635",
   "metadata": {},
   "outputs": [],
   "source": []
  },
  {
   "cell_type": "code",
   "execution_count": null,
   "id": "40041b02",
   "metadata": {},
   "outputs": [],
   "source": []
  }
 ],
 "metadata": {
  "kernelspec": {
   "display_name": "Python 3 (ipykernel)",
   "language": "python",
   "name": "python3"
  },
  "language_info": {
   "codemirror_mode": {
    "name": "ipython",
    "version": 3
   },
   "file_extension": ".py",
   "mimetype": "text/x-python",
   "name": "python",
   "nbconvert_exporter": "python",
   "pygments_lexer": "ipython3",
   "version": "3.9.13"
  }
 },
 "nbformat": 4,
 "nbformat_minor": 5
}
